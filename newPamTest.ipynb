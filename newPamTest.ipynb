{
 "cells": [
  {
   "cell_type": "code",
   "execution_count": 2,
   "metadata": {},
   "outputs": [],
   "source": [
    "import pandas as pd\n"
   ]
  },
  {
   "cell_type": "code",
   "execution_count": 4,
   "metadata": {},
   "outputs": [
    {
     "name": "stdout",
     "output_type": "stream",
     "text": [
      "    index    t      Date      Time  No.  ML  Temp.   PAR      F    Fm'  Y(II)  \\\n",
      "0       0    2  13.03.23  14:42:47    1   2    0.0     0  0.400  1.274  0.686   \n",
      "1       1   32  13.03.23  14:43:17    2   2    0.0     4  0.401  1.247  0.678   \n",
      "2       2   62  13.03.23  14:43:47    3   2    0.0     7  0.405  1.244  0.674   \n",
      "3       3   92  13.03.23  14:44:17    4   2    0.0    18  0.440  1.290  0.659   \n",
      "4       4  122  13.03.23  14:44:47    5   2    0.0    31  0.516  1.308  0.606   \n",
      "5       5  152  13.03.23  14:45:17    6   2    0.0    57  0.584  1.281  0.544   \n",
      "6       6  182  13.03.23  14:45:47    7   2    0.0   123  0.702  1.197  0.414   \n",
      "7       7  212  13.03.23  14:46:17    8   2    0.0   177  0.667  1.023  0.348   \n",
      "8       8  242  13.03.23  14:46:47    9   2    0.0   244  0.591  0.829  0.287   \n",
      "9       9  272  13.03.23  14:47:17   10   2    0.0   350  0.522  0.669  0.220   \n",
      "10     10  302  13.03.23  14:47:47   11   2    0.0   469  0.469  0.567  0.173   \n",
      "11     11  332  13.03.23  14:48:17   12   2    0.0   599  0.437  0.508  0.140   \n",
      "12     12  362  13.03.23  14:48:47   13   2    0.0   753  0.419  0.472  0.112   \n",
      "13     13  392  13.03.23  14:49:17   14   2    0.0   905  0.406  0.448  0.094   \n",
      "14     14  422  13.03.23  14:49:47   15   2    0.0  1313  0.404  0.430  0.060   \n",
      "\n",
      "    Y(NPQ)    NPQ   ETR  Unnamed: 13  Unnamed: 14  \n",
      "0    0.000  0.000   0.0          NaN          NaN  \n",
      "1    0.007  0.022   1.1          NaN          NaN  \n",
      "2    0.008  0.024   2.0          NaN          NaN  \n",
      "3    0.000  0.000   5.0          NaN          NaN  \n",
      "4    0.000  0.000   7.9          NaN          NaN  \n",
      "5    0.000  0.000  13.0          NaN          NaN  \n",
      "6    0.035  0.064  21.4          NaN          NaN  \n",
      "7    0.128  0.245  25.9          NaN          NaN  \n",
      "8    0.249  0.537  29.4          NaN          NaN  \n",
      "9    0.371  0.904  32.3          NaN          NaN  \n",
      "10   0.459  1.247  34.0          NaN          NaN  \n",
      "11   0.517  1.508  35.2          NaN          NaN  \n",
      "12   0.559  1.699  35.5          NaN          NaN  \n",
      "13   0.588  1.844  35.6          NaN          NaN  \n",
      "14   0.622  1.963  33.3          NaN          NaN  \n",
      "1.244\n"
     ]
    }
   ],
   "source": [
    "exp_ID = \"20230313\"\n",
    "fileName = \"20230313(2).CSV\"\n",
    "\n",
    "# Read the experiment file .csv into a pandas dataframe  \n",
    "dataPAM_df = pd.read_csv(\"20230313/20230313(2).CSV\", delimiter=\";\", skiprows=[0,2,3,4,5], skipfooter=1, engine=\"python\")\n",
    "# Drop the first 3 rows as they do not contain experiment data\n",
    "#dataPAM_df = dataPAM_df.drop([0,1,2], axis=0)\n",
    "# Drop the last row as it doesn't contain experimantal data\n",
    "#dataPAM_df = dataPAM_df.iloc[:-1, :]\n",
    "# Remove all empty columns (columns containing NaN)\n",
    "# dataPAM_df = dataPAM_df.dropna(axis=1)\n",
    "# Reset the row indexes of the dataframe (start at 0, 1, 2 ...) \n",
    "dataPAM_df = dataPAM_df.reset_index()\n",
    "\n",
    "print(dataPAM_df)\n",
    "print(dataPAM_df.iloc[2].loc[\"Fm\\'\"])"
   ]
  }
 ],
 "metadata": {
  "kernelspec": {
   "display_name": "Python 3",
   "language": "python",
   "name": "python3"
  },
  "language_info": {
   "codemirror_mode": {
    "name": "ipython",
    "version": 3
   },
   "file_extension": ".py",
   "mimetype": "text/x-python",
   "name": "python",
   "nbconvert_exporter": "python",
   "pygments_lexer": "ipython3",
   "version": "3.11.1"
  },
  "orig_nbformat": 4
 },
 "nbformat": 4,
 "nbformat_minor": 2
}
