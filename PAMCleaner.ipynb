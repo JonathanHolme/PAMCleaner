{
 "cells": [
  {
   "attachments": {},
   "cell_type": "markdown",
   "metadata": {},
   "source": [
    "# Imports"
   ]
  },
  {
   "cell_type": "code",
   "execution_count": 1,
   "metadata": {},
   "outputs": [],
   "source": [
    "import os\n",
    "import pandas as pd\n",
    "import matplotlib.pyplot as plt\n",
    "import matplotlib.patches as mpatches"
   ]
  },
  {
   "attachments": {},
   "cell_type": "markdown",
   "metadata": {},
   "source": [
    "## Set file locations"
   ]
  },
  {
   "cell_type": "code",
   "execution_count": 2,
   "metadata": {},
   "outputs": [
    {
     "name": "stdout",
     "output_type": "stream",
     "text": [
      "0        20230313(1).CSV\n",
      "1        20230313(2).CSV\n",
      "2    L_230313_144245.csv\n",
      "3    M_230313_143110.csv\n",
      "dtype: object\n"
     ]
    }
   ],
   "source": [
    "experimentID = '20230313' #example\n",
    "path = \"./\" + experimentID + \"/\"\n",
    "\n",
    "fileNames = os.listdir(experimentID)\n",
    "print(pd.Series(fileNames))"
   ]
  },
  {
   "attachments": {},
   "cell_type": "markdown",
   "metadata": {},
   "source": [
    "## Filter data-files"
   ]
  },
  {
   "cell_type": "code",
   "execution_count": 3,
   "metadata": {},
   "outputs": [
    {
     "name": "stdout",
     "output_type": "stream",
     "text": [
      "0    20230313(1).CSV\n",
      "1    20230313(2).CSV\n",
      "dtype: object\n"
     ]
    }
   ],
   "source": [
    "fileNames = [file for file in fileNames if \").CSV\" in file]\n",
    "# Only grabs csv files ending with ')'\n",
    "print(pd.Series(fileNames))"
   ]
  },
  {
   "attachments": {},
   "cell_type": "markdown",
   "metadata": {},
   "source": [
    "### testcode"
   ]
  },
  {
   "attachments": {},
   "cell_type": "markdown",
   "metadata": {},
   "source": [
    "Plan to extract usefull information (if any) from the three top rows"
   ]
  },
  {
   "cell_type": "code",
   "execution_count": 49,
   "metadata": {},
   "outputs": [
    {
     "name": "stdout",
     "output_type": "stream",
     "text": [
      "    index    t      Date      Time No.   ML  Temp.     PAR      F    Fm'  \\\n",
      "0       4    2  13.03.23  14:42:47   1  2.0    0.0     0.0  0.400  1.274   \n",
      "1       5   32  13.03.23  14:43:17   2  2.0    0.0     4.0  0.401  1.247   \n",
      "2       6   62  13.03.23  14:43:47   3  2.0    0.0     7.0  0.405  1.244   \n",
      "3       7   92  13.03.23  14:44:17   4  2.0    0.0    18.0  0.440  1.290   \n",
      "4       8  122  13.03.23  14:44:47   5  2.0    0.0    31.0  0.516  1.308   \n",
      "5       9  152  13.03.23  14:45:17   6  2.0    0.0    57.0  0.584  1.281   \n",
      "6      10  182  13.03.23  14:45:47   7  2.0    0.0   123.0  0.702  1.197   \n",
      "7      11  212  13.03.23  14:46:17   8  2.0    0.0   177.0  0.667  1.023   \n",
      "8      12  242  13.03.23  14:46:47   9  2.0    0.0   244.0  0.591  0.829   \n",
      "9      13  272  13.03.23  14:47:17  10  2.0    0.0   350.0  0.522  0.669   \n",
      "10     14  302  13.03.23  14:47:47  11  2.0    0.0   469.0  0.469  0.567   \n",
      "11     15  332  13.03.23  14:48:17  12  2.0    0.0   599.0  0.437  0.508   \n",
      "12     16  362  13.03.23  14:48:47  13  2.0    0.0   753.0  0.419  0.472   \n",
      "13     17  392  13.03.23  14:49:17  14  2.0    0.0   905.0  0.406  0.448   \n",
      "14     18  422  13.03.23  14:49:47  15  2.0    0.0  1313.0  0.404  0.430   \n",
      "\n",
      "    Y(II)  Y(NPQ)    NPQ   ETR  \n",
      "0   0.686   0.000  0.000   0.0  \n",
      "1   0.678   0.007  0.022   1.1  \n",
      "2   0.674   0.008  0.024   2.0  \n",
      "3   0.659   0.000  0.000   5.0  \n",
      "4   0.606   0.000  0.000   7.9  \n",
      "5   0.544   0.000  0.000  13.0  \n",
      "6   0.414   0.035  0.064  21.4  \n",
      "7   0.348   0.128  0.245  25.9  \n",
      "8   0.287   0.249  0.537  29.4  \n",
      "9   0.220   0.371  0.904  32.3  \n",
      "10  0.173   0.459  1.247  34.0  \n",
      "11  0.140   0.517  1.508  35.2  \n",
      "12  0.112   0.559  1.699  35.5  \n",
      "13  0.094   0.588  1.844  35.6  \n",
      "14  0.060   0.622  1.963  33.3  \n",
      "['wt test']\n"
     ]
    }
   ],
   "source": [
    "test_df = pd.read_csv(path + fileNames[1], sep= \";\", header=1)\n",
    "with open(path + fileNames[1], \"r\") as f:\n",
    "    frame_name = f.readline()\n",
    "frame_name_list = frame_name.strip(\"\\n\").split(sep=\",\")\n",
    "# test_info_df = test_df.loc[[0,1,2]]\n",
    "# test_df.name = test_df\n",
    "test_df = test_df.iloc[4:-1]\n",
    "test_df = test_df.dropna(axis=1)\n",
    "test_df = test_df.reset_index()\n",
    "\n",
    "# print(test_info_df)\n",
    "print(test_df)\n",
    "print(frame_name_list)"
   ]
  },
  {
   "attachments": {},
   "cell_type": "markdown",
   "metadata": {},
   "source": [
    "Gets the local name for each sample (i.e. WT18, 6.1.1 etc.) "
   ]
  },
  {
   "cell_type": "code",
   "execution_count": 6,
   "metadata": {},
   "outputs": [
    {
     "name": "stdout",
     "output_type": "stream",
     "text": [
      "     0   1           2         3         4                            5\n",
      "0  0.0 NaN  /n     765  19.06.21  16:23:03  File: I_210619_161019.PWS/n\n",
      "I_210619_161019\n",
      "['WT18']\n",
      "./20210619/20210619(2).CSV\n"
     ]
    }
   ],
   "source": [
    "from tailer import tail\n",
    "from io import StringIO\n",
    "\n",
    "# Get just last row of the csv\n",
    "with open(path + fileNames[0], \"r\") as file:\n",
    "    last_line = tail(file, 1)\n",
    "test_series = pd.read_csv(StringIO(\"/n\".join(last_line)), delimiter=\";\",header=None)\n",
    "print(test_series)\n",
    "# Access cell with \n",
    "# sample_name = test_df.iloc[-1].loc[\"No.\"]\n",
    "sample_name = test_series.iloc[0].iloc[5]\n",
    "\n",
    "only_sample_ID = sample_name.split(\"File: \")[1]\n",
    "only_sample_ID = only_sample_ID[:only_sample_ID.find(\".PWS\")]\n",
    "\n",
    "print(only_sample_ID)\n",
    "local_ID = list(pd.read_csv(f\"./Report/{experimentID}/{only_sample_ID}.txt\"))\n",
    "\n",
    "print(local_ID)\n",
    "\n",
    "print(path + fileNames[0])"
   ]
  },
  {
   "attachments": {},
   "cell_type": "markdown",
   "metadata": {},
   "source": [
    "Strip rows from dataset"
   ]
  },
  {
   "cell_type": "code",
   "execution_count": 7,
   "metadata": {},
   "outputs": [],
   "source": [
    "# re-reads in the file (keeps )\n",
    "no_row_4_df = pd.read_csv(path + fileNames[0],  sep = ';', skiprows = [4])"
   ]
  },
  {
   "attachments": {},
   "cell_type": "markdown",
   "metadata": {},
   "source": [
    "Get values from the dataset "
   ]
  },
  {
   "cell_type": "code",
   "execution_count": 8,
   "metadata": {},
   "outputs": [],
   "source": [
    "#find max Fm\n",
    "max_Fm = no_row_4_df[\"Fm'\"].max()\n",
    "#calculate NPQown maxFm/Fm'-1 and place it in a new column \"NPQown\"\n",
    "no_row_4_df['NPQown'] = (max_Fm/no_row_4_df[\"Fm\\'\"])-1\n",
    "#find max NPQ\n",
    "max_NPQ = no_row_4_df[\"NPQown\"].max()\n",
    "#find max Fo\n",
    "max_Fo = no_row_4_df[\"~Fo'\"].max()\n",
    "#calculate phi PSIImax\n",
    "max_PSII = ((max_Fm - max_Fo)/max_Fm)\n",
    "#calculate phi PSII' and place it in new column \"PSII\\'\"\n",
    "no_row_4_df['PSII\\''] = ((no_row_4_df[\"Fm\\'\"] - max_Fo)/no_row_4_df[\"Fm\\'\"])\n",
    "#calculate qP \n",
    "no_row_4_df['qP'] = ((no_row_4_df[\"Fm\\'\"] - max_Fm) / (no_row_4_df[\"Fm\\'\"] - max_Fo))\n",
    "#calculate rETR = PSII*PAR\n",
    "no_row_4_df['rETR'] = no_row_4_df['PSII\\''] * no_row_4_df['PAR']"
   ]
  },
  {
   "attachments": {},
   "cell_type": "markdown",
   "metadata": {},
   "source": [
    "Define x- and y- axis data"
   ]
  },
  {
   "cell_type": "code",
   "execution_count": 9,
   "metadata": {},
   "outputs": [],
   "source": [
    "x = no_row_4_df['t']\n",
    "y = no_row_4_df['NPQown']\n",
    "#y = df['rETR']"
   ]
  },
  {
   "attachments": {},
   "cell_type": "markdown",
   "metadata": {},
   "source": [
    "Create the plot"
   ]
  },
  {
   "cell_type": "code",
   "execution_count": 10,
   "metadata": {},
   "outputs": [
    {
     "name": "stdout",
     "output_type": "stream",
     "text": [
      "['WT18']\n"
     ]
    },
    {
     "data": {
      "image/png": "[encoded data removed]",
      "text/plain": [
       "<Figure size 640x480 with 1 Axes>"
      ]
     },
     "metadata": {},
     "output_type": "display_data"
    }
   ],
   "source": [
    "f, ax = plt.subplots()\n",
    "ax.set_ylabel('NPQ')\n",
    "ax.set_xlabel('t in [s]')\n",
    "#ax.set_title('t')\n",
    "NPQ_wt = []\n",
    "NPQ_a = []\n",
    "NPQ_b = []\n",
    "\n",
    "strings = local_ID\n",
    "substring = \"WT\"\n",
    "sampleA = \"LHCX1g1\"\n",
    "sampleB = \"LHCX1g2\"\n",
    "print(strings)\n",
    "# return true if substring (\"WT\") is in any string in strings (strings has only one string!)\n",
    "# why not use substring in string without list. Can the .txt have multiple names?\n",
    "substring_in_list = any(substring in string for string in strings)\n",
    "if substring_in_list :\n",
    "    ## NPQ list\n",
    "    #NPQ_wt.append[max_NPQ]\n",
    "\n",
    "    ax.plot(x, y, label = \"WT\", color= 'c')\n",
    "    \n",
    "substring_in_list = any(sampleA in string for string in strings)\n",
    "if substring_in_list :\n",
    "    \n",
    "    ax.plot(x, y, label = \"mut1\", color= 'red')    \n",
    "\n",
    "substring_in_list = any(sampleB in string for string in strings)\n",
    "if substring_in_list :\n",
    "    \n",
    "    ax.plot(x, y, label = \"mut2\", color= 'blue') \n",
    "    \n",
    "#y = df['Y(II)']\n",
    "#ax.plot (x,y, label = 'Y(II)', c = 'black') \n",
    "\n",
    "file_patch = mpatches.Patch (label = strings)\n",
    "ax.legend(handles=[file_patch])\n",
    "###Place a legend to the right of this smaller subplot.\n",
    "plt.legend(bbox_to_anchor=(1.05, 1), loc='upper left', borderaxespad=0.)\n",
    "\n",
    "#save the picture\n",
    "plt.savefig(experimentID + 'colour.png', dpi=300, bbox_inches='tight')\n",
    "### Generate the plot\n",
    "plt.show()"
   ]
  },
  {
   "attachments": {},
   "cell_type": "markdown",
   "metadata": {},
   "source": [
    "### Add label to the graph"
   ]
  },
  {
   "attachments": {},
   "cell_type": "markdown",
   "metadata": {},
   "source": [
    "## File loop-over"
   ]
  },
  {
   "cell_type": "code",
   "execution_count": 11,
   "metadata": {},
   "outputs": [
    {
     "ename": "FileNotFoundError",
     "evalue": "[Errno 2] No such file or directory: '2021061920210619(2).CSV'",
     "output_type": "error",
     "traceback": [
      "\u001b[1;31m---------------------------------------------------------------------------\u001b[0m",
      "\u001b[1;31mFileNotFoundError\u001b[0m                         Traceback (most recent call last)",
      "Cell \u001b[1;32mIn[11], line 5\u001b[0m\n\u001b[0;32m      1\u001b[0m \u001b[39m### Loop over all files\u001b[39;00m\n\u001b[0;32m      2\u001b[0m \u001b[39mfor\u001b[39;00m file \u001b[39min\u001b[39;00m fileNames:\n\u001b[0;32m      3\u001b[0m     \u001b[39m###before skipping rows extract id to get sample name \u001b[39;00m\n\u001b[0;32m      4\u001b[0m     \u001b[39m#donot name id, this is a taken variable\u001b[39;00m\n\u001b[1;32m----> 5\u001b[0m     dfid \u001b[39m=\u001b[39m pd\u001b[39m.\u001b[39;49mread_csv(experimentID \u001b[39m+\u001b[39;49m file,  sep \u001b[39m=\u001b[39;49m \u001b[39m'\u001b[39;49m\u001b[39m;\u001b[39;49m\u001b[39m'\u001b[39;49m, skiprows \u001b[39m=\u001b[39;49m [\u001b[39m3\u001b[39;49m])\n\u001b[0;32m      6\u001b[0m     \u001b[39m#latz row can be at 27 or 28! ilic[-n] returns the n last rows\u001b[39;00m\n\u001b[0;32m      7\u001b[0m     rows \u001b[39m=\u001b[39m dfid\u001b[39m.\u001b[39mtail(\u001b[39m1\u001b[39m)\n",
      "File \u001b[1;32mc:\\Users\\Jonathan Elias Holme\\AppData\\Local\\Programs\\Python\\Python311\\Lib\\site-packages\\pandas\\util\\_decorators.py:211\u001b[0m, in \u001b[0;36mdeprecate_kwarg.<locals>._deprecate_kwarg.<locals>.wrapper\u001b[1;34m(*args, **kwargs)\u001b[0m\n\u001b[0;32m    209\u001b[0m     \u001b[39melse\u001b[39;00m:\n\u001b[0;32m    210\u001b[0m         kwargs[new_arg_name] \u001b[39m=\u001b[39m new_arg_value\n\u001b[1;32m--> 211\u001b[0m \u001b[39mreturn\u001b[39;00m func(\u001b[39m*\u001b[39;49margs, \u001b[39m*\u001b[39;49m\u001b[39m*\u001b[39;49mkwargs)\n",
      "File \u001b[1;32mc:\\Users\\Jonathan Elias Holme\\AppData\\Local\\Programs\\Python\\Python311\\Lib\\site-packages\\pandas\\util\\_decorators.py:331\u001b[0m, in \u001b[0;36mdeprecate_nonkeyword_arguments.<locals>.decorate.<locals>.wrapper\u001b[1;34m(*args, **kwargs)\u001b[0m\n\u001b[0;32m    325\u001b[0m \u001b[39mif\u001b[39;00m \u001b[39mlen\u001b[39m(args) \u001b[39m>\u001b[39m num_allow_args:\n\u001b[0;32m    326\u001b[0m     warnings\u001b[39m.\u001b[39mwarn(\n\u001b[0;32m    327\u001b[0m         msg\u001b[39m.\u001b[39mformat(arguments\u001b[39m=\u001b[39m_format_argument_list(allow_args)),\n\u001b[0;32m    328\u001b[0m         \u001b[39mFutureWarning\u001b[39;00m,\n\u001b[0;32m    329\u001b[0m         stacklevel\u001b[39m=\u001b[39mfind_stack_level(),\n\u001b[0;32m    330\u001b[0m     )\n\u001b[1;32m--> 331\u001b[0m \u001b[39mreturn\u001b[39;00m func(\u001b[39m*\u001b[39;49margs, \u001b[39m*\u001b[39;49m\u001b[39m*\u001b[39;49mkwargs)\n",
      "File \u001b[1;32mc:\\Users\\Jonathan Elias Holme\\AppData\\Local\\Programs\\Python\\Python311\\Lib\\site-packages\\pandas\\io\\parsers\\readers.py:950\u001b[0m, in \u001b[0;36mread_csv\u001b[1;34m(filepath_or_buffer, sep, delimiter, header, names, index_col, usecols, squeeze, prefix, mangle_dupe_cols, dtype, engine, converters, true_values, false_values, skipinitialspace, skiprows, skipfooter, nrows, na_values, keep_default_na, na_filter, verbose, skip_blank_lines, parse_dates, infer_datetime_format, keep_date_col, date_parser, dayfirst, cache_dates, iterator, chunksize, compression, thousands, decimal, lineterminator, quotechar, quoting, doublequote, escapechar, comment, encoding, encoding_errors, dialect, error_bad_lines, warn_bad_lines, on_bad_lines, delim_whitespace, low_memory, memory_map, float_precision, storage_options)\u001b[0m\n\u001b[0;32m    935\u001b[0m kwds_defaults \u001b[39m=\u001b[39m _refine_defaults_read(\n\u001b[0;32m    936\u001b[0m     dialect,\n\u001b[0;32m    937\u001b[0m     delimiter,\n\u001b[1;32m   (...)\u001b[0m\n\u001b[0;32m    946\u001b[0m     defaults\u001b[39m=\u001b[39m{\u001b[39m\"\u001b[39m\u001b[39mdelimiter\u001b[39m\u001b[39m\"\u001b[39m: \u001b[39m\"\u001b[39m\u001b[39m,\u001b[39m\u001b[39m\"\u001b[39m},\n\u001b[0;32m    947\u001b[0m )\n\u001b[0;32m    948\u001b[0m kwds\u001b[39m.\u001b[39mupdate(kwds_defaults)\n\u001b[1;32m--> 950\u001b[0m \u001b[39mreturn\u001b[39;00m _read(filepath_or_buffer, kwds)\n",
      "File \u001b[1;32mc:\\Users\\Jonathan Elias Holme\\AppData\\Local\\Programs\\Python\\Python311\\Lib\\site-packages\\pandas\\io\\parsers\\readers.py:605\u001b[0m, in \u001b[0;36m_read\u001b[1;34m(filepath_or_buffer, kwds)\u001b[0m\n\u001b[0;32m    602\u001b[0m _validate_names(kwds\u001b[39m.\u001b[39mget(\u001b[39m\"\u001b[39m\u001b[39mnames\u001b[39m\u001b[39m\"\u001b[39m, \u001b[39mNone\u001b[39;00m))\n\u001b[0;32m    604\u001b[0m \u001b[39m# Create the parser.\u001b[39;00m\n\u001b[1;32m--> 605\u001b[0m parser \u001b[39m=\u001b[39m TextFileReader(filepath_or_buffer, \u001b[39m*\u001b[39;49m\u001b[39m*\u001b[39;49mkwds)\n\u001b[0;32m    607\u001b[0m \u001b[39mif\u001b[39;00m chunksize \u001b[39mor\u001b[39;00m iterator:\n\u001b[0;32m    608\u001b[0m     \u001b[39mreturn\u001b[39;00m parser\n",
      "File \u001b[1;32mc:\\Users\\Jonathan Elias Holme\\AppData\\Local\\Programs\\Python\\Python311\\Lib\\site-packages\\pandas\\io\\parsers\\readers.py:1442\u001b[0m, in \u001b[0;36mTextFileReader.__init__\u001b[1;34m(self, f, engine, **kwds)\u001b[0m\n\u001b[0;32m   1439\u001b[0m     \u001b[39mself\u001b[39m\u001b[39m.\u001b[39moptions[\u001b[39m\"\u001b[39m\u001b[39mhas_index_names\u001b[39m\u001b[39m\"\u001b[39m] \u001b[39m=\u001b[39m kwds[\u001b[39m\"\u001b[39m\u001b[39mhas_index_names\u001b[39m\u001b[39m\"\u001b[39m]\n\u001b[0;32m   1441\u001b[0m \u001b[39mself\u001b[39m\u001b[39m.\u001b[39mhandles: IOHandles \u001b[39m|\u001b[39m \u001b[39mNone\u001b[39;00m \u001b[39m=\u001b[39m \u001b[39mNone\u001b[39;00m\n\u001b[1;32m-> 1442\u001b[0m \u001b[39mself\u001b[39m\u001b[39m.\u001b[39m_engine \u001b[39m=\u001b[39m \u001b[39mself\u001b[39;49m\u001b[39m.\u001b[39;49m_make_engine(f, \u001b[39mself\u001b[39;49m\u001b[39m.\u001b[39;49mengine)\n",
      "File \u001b[1;32mc:\\Users\\Jonathan Elias Holme\\AppData\\Local\\Programs\\Python\\Python311\\Lib\\site-packages\\pandas\\io\\parsers\\readers.py:1735\u001b[0m, in \u001b[0;36mTextFileReader._make_engine\u001b[1;34m(self, f, engine)\u001b[0m\n\u001b[0;32m   1733\u001b[0m     \u001b[39mif\u001b[39;00m \u001b[39m\"\u001b[39m\u001b[39mb\u001b[39m\u001b[39m\"\u001b[39m \u001b[39mnot\u001b[39;00m \u001b[39min\u001b[39;00m mode:\n\u001b[0;32m   1734\u001b[0m         mode \u001b[39m+\u001b[39m\u001b[39m=\u001b[39m \u001b[39m\"\u001b[39m\u001b[39mb\u001b[39m\u001b[39m\"\u001b[39m\n\u001b[1;32m-> 1735\u001b[0m \u001b[39mself\u001b[39m\u001b[39m.\u001b[39mhandles \u001b[39m=\u001b[39m get_handle(\n\u001b[0;32m   1736\u001b[0m     f,\n\u001b[0;32m   1737\u001b[0m     mode,\n\u001b[0;32m   1738\u001b[0m     encoding\u001b[39m=\u001b[39;49m\u001b[39mself\u001b[39;49m\u001b[39m.\u001b[39;49moptions\u001b[39m.\u001b[39;49mget(\u001b[39m\"\u001b[39;49m\u001b[39mencoding\u001b[39;49m\u001b[39m\"\u001b[39;49m, \u001b[39mNone\u001b[39;49;00m),\n\u001b[0;32m   1739\u001b[0m     compression\u001b[39m=\u001b[39;49m\u001b[39mself\u001b[39;49m\u001b[39m.\u001b[39;49moptions\u001b[39m.\u001b[39;49mget(\u001b[39m\"\u001b[39;49m\u001b[39mcompression\u001b[39;49m\u001b[39m\"\u001b[39;49m, \u001b[39mNone\u001b[39;49;00m),\n\u001b[0;32m   1740\u001b[0m     memory_map\u001b[39m=\u001b[39;49m\u001b[39mself\u001b[39;49m\u001b[39m.\u001b[39;49moptions\u001b[39m.\u001b[39;49mget(\u001b[39m\"\u001b[39;49m\u001b[39mmemory_map\u001b[39;49m\u001b[39m\"\u001b[39;49m, \u001b[39mFalse\u001b[39;49;00m),\n\u001b[0;32m   1741\u001b[0m     is_text\u001b[39m=\u001b[39;49mis_text,\n\u001b[0;32m   1742\u001b[0m     errors\u001b[39m=\u001b[39;49m\u001b[39mself\u001b[39;49m\u001b[39m.\u001b[39;49moptions\u001b[39m.\u001b[39;49mget(\u001b[39m\"\u001b[39;49m\u001b[39mencoding_errors\u001b[39;49m\u001b[39m\"\u001b[39;49m, \u001b[39m\"\u001b[39;49m\u001b[39mstrict\u001b[39;49m\u001b[39m\"\u001b[39;49m),\n\u001b[0;32m   1743\u001b[0m     storage_options\u001b[39m=\u001b[39;49m\u001b[39mself\u001b[39;49m\u001b[39m.\u001b[39;49moptions\u001b[39m.\u001b[39;49mget(\u001b[39m\"\u001b[39;49m\u001b[39mstorage_options\u001b[39;49m\u001b[39m\"\u001b[39;49m, \u001b[39mNone\u001b[39;49;00m),\n\u001b[0;32m   1744\u001b[0m )\n\u001b[0;32m   1745\u001b[0m \u001b[39massert\u001b[39;00m \u001b[39mself\u001b[39m\u001b[39m.\u001b[39mhandles \u001b[39mis\u001b[39;00m \u001b[39mnot\u001b[39;00m \u001b[39mNone\u001b[39;00m\n\u001b[0;32m   1746\u001b[0m f \u001b[39m=\u001b[39m \u001b[39mself\u001b[39m\u001b[39m.\u001b[39mhandles\u001b[39m.\u001b[39mhandle\n",
      "File \u001b[1;32mc:\\Users\\Jonathan Elias Holme\\AppData\\Local\\Programs\\Python\\Python311\\Lib\\site-packages\\pandas\\io\\common.py:856\u001b[0m, in \u001b[0;36mget_handle\u001b[1;34m(path_or_buf, mode, encoding, compression, memory_map, is_text, errors, storage_options)\u001b[0m\n\u001b[0;32m    851\u001b[0m \u001b[39melif\u001b[39;00m \u001b[39misinstance\u001b[39m(handle, \u001b[39mstr\u001b[39m):\n\u001b[0;32m    852\u001b[0m     \u001b[39m# Check whether the filename is to be opened in binary mode.\u001b[39;00m\n\u001b[0;32m    853\u001b[0m     \u001b[39m# Binary mode does not support 'encoding' and 'newline'.\u001b[39;00m\n\u001b[0;32m    854\u001b[0m     \u001b[39mif\u001b[39;00m ioargs\u001b[39m.\u001b[39mencoding \u001b[39mand\u001b[39;00m \u001b[39m\"\u001b[39m\u001b[39mb\u001b[39m\u001b[39m\"\u001b[39m \u001b[39mnot\u001b[39;00m \u001b[39min\u001b[39;00m ioargs\u001b[39m.\u001b[39mmode:\n\u001b[0;32m    855\u001b[0m         \u001b[39m# Encoding\u001b[39;00m\n\u001b[1;32m--> 856\u001b[0m         handle \u001b[39m=\u001b[39m \u001b[39mopen\u001b[39;49m(\n\u001b[0;32m    857\u001b[0m             handle,\n\u001b[0;32m    858\u001b[0m             ioargs\u001b[39m.\u001b[39;49mmode,\n\u001b[0;32m    859\u001b[0m             encoding\u001b[39m=\u001b[39;49mioargs\u001b[39m.\u001b[39;49mencoding,\n\u001b[0;32m    860\u001b[0m             errors\u001b[39m=\u001b[39;49merrors,\n\u001b[0;32m    861\u001b[0m             newline\u001b[39m=\u001b[39;49m\u001b[39m\"\u001b[39;49m\u001b[39m\"\u001b[39;49m,\n\u001b[0;32m    862\u001b[0m         )\n\u001b[0;32m    863\u001b[0m     \u001b[39melse\u001b[39;00m:\n\u001b[0;32m    864\u001b[0m         \u001b[39m# Binary mode\u001b[39;00m\n\u001b[0;32m    865\u001b[0m         handle \u001b[39m=\u001b[39m \u001b[39mopen\u001b[39m(handle, ioargs\u001b[39m.\u001b[39mmode)\n",
      "\u001b[1;31mFileNotFoundError\u001b[0m: [Errno 2] No such file or directory: '2021061920210619(2).CSV'"
     ]
    }
   ],
   "source": [
    "### Loop over all files\n",
    "for file in fileNames:\n",
    "    ###before skipping rows extract id to get sample name \n",
    "    #donot name id, this is a taken variable\n",
    "    dfid = pd.read_csv(experimentID + file,  sep = ';', skiprows = [3])\n",
    "    #latz row can be at 27 or 28! ilic[-n] returns the n last rows\n",
    "    rows = dfid.tail(1)\n",
    "    #####Get the unique identifier of each sample (W) to access the txt file with the sample name\n",
    "    sampleID = rows.iloc[0]['No.']\n",
    "    N=sampleID.partition(' ')[2]\n",
    "    W=N.partition('.') [0]\n",
    "    Name = pd.read_csv('./Report/' + experimentID + '/' + W + '.txt')\n",
    "    NN=list(Name)\n",
    "    \n",
    "    ### Read .csv file and append to list, \n",
    "    #therby manually decide to skip rows in the end to trim datasets to the same lenght ( x axis of plot)\n",
    "    #trimming of line 4 because it contains no data but calculations of f0 and fm that we do not need\n",
    "    df = pd.read_csv(experimentID + file,  sep = ';', skiprows = [4,29,30,31])\n",
    "    \n",
    "    \n",
    "    #find max Fm\n",
    "    column = df[\"Fm'\"]\n",
    "    max_Fm = column.max()\n",
    "    #calculate NPQown maxFm/Fm'-1\n",
    "    df['NPQown'] = (max_Fm/df[\"Fm'\"])-1\n",
    "    #find max NPQ\n",
    "    columna = df[\"NPQown\"]\n",
    "    max_NPQ = columna.max()\n",
    "    #find max Fo\n",
    "    max_Fo = df[\"~Fo'\"].max()\n",
    "    #calculate phi PSIImax\n",
    "    max_PSII = ((max_Fm - max_Fo)/max_Fm)\n",
    "    #calculate phi PSII'\n",
    "    df['PSII'] = ((df[\"Fm'\"] - max_Fo)/df[\"Fm'\"])\n",
    "    #calculate qP \n",
    "    df['qP'] = ((df[\"Fm'\"] - max_Fm) / (df[\"Fm'\"] - max_Fo))\n",
    "    #calculate rETR = PSII*PAR\n",
    "    df['rETR'] = df['PSII'] * df['PAR']\n",
    "    \n",
    "    ##########DEFINE what parameters will be plottet on x and y axis###########\n",
    "    x = df['t']\n",
    "    y = df['NPQown']\n",
    "    #y = df['rETR']\n",
    "    \n",
    "    #Fm/Fm'-1\n",
    "    ### Create line for every file\n",
    "    #ax.plot(x, y, label = file )\n",
    "    #ax.plot(x, y, label = NN )\n",
    "    #######Allocate or change Names of samples########\n",
    "    strings = NN\n",
    "    substring = \"WT\"\n",
    "    sampleA = \"LHCX1g1\"\n",
    "    sampleB = \"LHCX1g2\"\n",
    "\n",
    "    substring_in_list = any(substring in string for string in strings)\n",
    "    if substring_in_list :\n",
    "        ## NPQ list\n",
    "        #NPQ_wt.append[max_NPQ]\n",
    "\n",
    "        ax.plot(x, y, label = \"WT\", color= 'c')\n",
    "        \n",
    "    substring_in_list = any(sampleA in string for string in strings)\n",
    "    if substring_in_list :\n",
    "        \n",
    "        ax.plot(x, y, label = \"mut1\", color= 'red')    \n",
    "    \n",
    "    substring_in_list = any(sampleB in string for string in strings)\n",
    "    if substring_in_list :\n",
    "        \n",
    "        ax.plot(x, y, label = \"mut2\", color= 'blue') \n",
    "        \n",
    "    #y = df['Y(II)']\n",
    "    #ax.plot (x,y, label = 'Y(II)', c = 'black') "
   ]
  }
 ],
 "metadata": {
  "kernelspec": {
   "display_name": "Python 3",
   "language": "python",
   "name": "python3"
  },
  "language_info": {
   "codemirror_mode": {
    "name": "ipython",
    "version": 3
   },
   "file_extension": ".py",
   "mimetype": "text/x-python",
   "name": "python",
   "nbconvert_exporter": "python",
   "pygments_lexer": "ipython3",
   "version": "3.11.1"
  },
  "orig_nbformat": 4,
  "vscode": {
   "interpreter": {
    "hash": "67d4bc76525c9c578f7b9d030d30e2803147d66b25b73176ca0e1a4578d678f3"
   }
  }
 },
 "nbformat": 4,
 "nbformat_minor": 2
}
